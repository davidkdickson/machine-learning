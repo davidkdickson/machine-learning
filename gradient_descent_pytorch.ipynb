{
 "cells": [
  {
   "cell_type": "code",
   "execution_count": 1,
   "metadata": {},
   "outputs": [],
   "source": [
    "%matplotlib inline\n",
    "\n",
    "import torch\n",
    "import matplotlib.pyplot as plt"
   ]
  },
  {
   "cell_type": "code",
   "execution_count": 2,
   "metadata": {},
   "outputs": [],
   "source": [
    "def mse(y_hat, y): return ((y_hat-y)**2).mean()"
   ]
  },
  {
   "cell_type": "code",
   "execution_count": 3,
   "metadata": {},
   "outputs": [],
   "source": [
    "def update(x, a, y, lr):\n",
    "    y_hat = x@a\n",
    "    loss = mse(y, y_hat)\n",
    "    if t%10 == 0: print(loss)\n",
    "    loss.backward()\n",
    "    with torch.no_grad():\n",
    "        a.sub_(lr * a.grad)\n",
    "        a.grad.zero_()"
   ]
  },
  {
   "cell_type": "code",
   "execution_count": 9,
   "metadata": {},
   "outputs": [
    {
     "data": {
      "text/plain": [
       "<matplotlib.collections.PathCollection at 0x7fad2c23a748>"
      ]
     },
     "execution_count": 9,
     "metadata": {},
     "output_type": "execute_result"
    },
    {
     "data": {
      "image/png": "[encoded data removed]",
      "text/plain": [
       "<Figure size 432x288 with 1 Axes>"
      ]
     },
     "metadata": {
      "needs_background": "light"
     },
     "output_type": "display_data"
    }
   ],
   "source": [
    "lr = 1e-1\n",
    "a = torch.tensor([3., 2])\n",
    "x = torch.ones(100, 2)\n",
    "x[:, 0].uniform_(-1, 1)\n",
    "y = torch.matmul(x, a) #+ torch.rand(100) \n",
    "plt.scatter(x[:,0], y)"
   ]
  },
  {
   "cell_type": "code",
   "execution_count": 10,
   "metadata": {},
   "outputs": [
    {
     "name": "stdout",
     "output_type": "stream",
     "text": [
      "tensor(6.5105, grad_fn=<MeanBackward1>)\n",
      "tensor(1.3338, grad_fn=<MeanBackward1>)\n",
      "tensor(0.3456, grad_fn=<MeanBackward1>)\n",
      "tensor(0.0906, grad_fn=<MeanBackward1>)\n",
      "tensor(0.0238, grad_fn=<MeanBackward1>)\n",
      "tensor(0.0062, grad_fn=<MeanBackward1>)\n",
      "tensor(0.0016, grad_fn=<MeanBackward1>)\n",
      "tensor(0.0004, grad_fn=<MeanBackward1>)\n",
      "tensor(0.0001, grad_fn=<MeanBackward1>)\n",
      "tensor(2.9537e-05, grad_fn=<MeanBackward1>)\n"
     ]
    }
   ],
   "source": [
    "a = torch.tensor([-1., 1], requires_grad=True)\n",
    "for t in range(100):\n",
    "    update(x, a, y, lr)"
   ]
  },
  {
   "cell_type": "code",
   "execution_count": 11,
   "metadata": {},
   "outputs": [
    {
     "name": "stdout",
     "output_type": "stream",
     "text": [
      "tensor([2.9951, 2.0003], requires_grad=True)\n"
     ]
    }
   ],
   "source": [
    "print(a)"
   ]
  }
 ],
 "metadata": {
  "kernelspec": {
   "display_name": "Python 3",
   "language": "python",
   "name": "python3"
  },
  "language_info": {
   "codemirror_mode": {
    "name": "ipython",
    "version": 3
   },
   "file_extension": ".py",
   "mimetype": "text/x-python",
   "name": "python",
   "nbconvert_exporter": "python",
   "pygments_lexer": "ipython3",
   "version": "3.7.1"
  }
 },
 "nbformat": 4,
 "nbformat_minor": 2
}
