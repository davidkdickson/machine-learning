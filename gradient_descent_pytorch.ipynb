{
 "cells": [
  {
   "cell_type": "code",
   "execution_count": 1,
   "metadata": {},
   "outputs": [],
   "source": [
    "%matplotlib inline\n",
    "\n",
    "import torch\n",
    "import matplotlib.pyplot as plt"
   ]
  },
  {
   "cell_type": "code",
   "execution_count": 2,
   "metadata": {},
   "outputs": [],
   "source": [
    "def mse(y_hat, y): return ((y_hat-y)**2).mean()"
   ]
  },
  {
   "cell_type": "code",
   "execution_count": 3,
   "metadata": {},
   "outputs": [],
   "source": [
    "def update(x, a, y, lr):\n",
    "    y_hat = x@a\n",
    "    loss = mse(y, y_hat)\n",
    "    if t%10 == 0: print(loss)\n",
    "    loss.backward()\n",
    "    with torch.no_grad():\n",
    "        a.sub_(lr * a.grad)\n",
    "        a.grad.zero_()"
   ]
  },
  {
   "cell_type": "code",
   "execution_count": 7,
   "metadata": {},
   "outputs": [
    {
     "data": {
      "text/plain": [
       "<matplotlib.collections.PathCollection at 0x7ffad81568d0>"
      ]
     },
     "execution_count": 7,
     "metadata": {},
     "output_type": "execute_result"
    },
    {
     "data": {
      "image/png": "[encoded data removed]",
      "text/plain": [
       "<Figure size 432x288 with 1 Axes>"
      ]
     },
     "metadata": {
      "needs_background": "light"
     },
     "output_type": "display_data"
    }
   ],
   "source": [
    "lr = 1e-1\n",
    "a = torch.tensor([3., 2])\n",
    "x = torch.ones(100, 2)\n",
    "x[:, 0].uniform_(-1, 1)\n",
    "y = torch.matmul(x, a) #+ torch.rand(100) \n",
    "y = x@a #+ torch.rand(100) \n",
    "plt.scatter(x[:,0], y)"
   ]
  },
  {
   "cell_type": "code",
   "execution_count": 12,
   "metadata": {},
   "outputs": [
    {
     "ename": "SyntaxError",
     "evalue": "invalid syntax (<ipython-input-12-48dad12865d1>, line 1)",
     "output_type": "error",
     "traceback": [
      "\u001b[0;36m  File \u001b[0;32m\"<ipython-input-12-48dad12865d1>\"\u001b[0;36m, line \u001b[0;32m1\u001b[0m\n\u001b[0;31m    @\u001b[0m\n\u001b[0m     ^\u001b[0m\n\u001b[0;31mSyntaxError\u001b[0m\u001b[0;31m:\u001b[0m invalid syntax\n"
     ]
    }
   ],
   "source": [
    "@"
   ]
  },
  {
   "cell_type": "code",
   "execution_count": 8,
   "metadata": {},
   "outputs": [
    {
     "name": "stdout",
     "output_type": "stream",
     "text": [
      "tensor(5.9589, grad_fn=<MeanBackward1>)\n",
      "tensor(1.3932, grad_fn=<MeanBackward1>)\n",
      "tensor(0.3669, grad_fn=<MeanBackward1>)\n",
      "tensor(0.0972, grad_fn=<MeanBackward1>)\n",
      "tensor(0.0257, grad_fn=<MeanBackward1>)\n",
      "tensor(0.0068, grad_fn=<MeanBackward1>)\n",
      "tensor(0.0018, grad_fn=<MeanBackward1>)\n",
      "tensor(0.0005, grad_fn=<MeanBackward1>)\n",
      "tensor(0.0001, grad_fn=<MeanBackward1>)\n",
      "tensor(3.3558e-05, grad_fn=<MeanBackward1>)\n"
     ]
    }
   ],
   "source": [
    "a = torch.tensor([-1., 1], requires_grad=True)\n",
    "for t in range(100):\n",
    "    update(x, a, y, lr)"
   ]
  },
  {
   "cell_type": "code",
   "execution_count": 9,
   "metadata": {},
   "outputs": [
    {
     "name": "stdout",
     "output_type": "stream",
     "text": [
      "tensor([2.9947, 1.9998], requires_grad=True)\n"
     ]
    }
   ],
   "source": [
    "print(a)"
   ]
  }
 ],
 "metadata": {
  "kernelspec": {
   "display_name": "Python 3",
   "language": "python",
   "name": "python3"
  },
  "language_info": {
   "codemirror_mode": {
    "name": "ipython",
    "version": 3
   },
   "file_extension": ".py",
   "mimetype": "text/x-python",
   "name": "python",
   "nbconvert_exporter": "python",
   "pygments_lexer": "ipython3",
   "version": "3.7.1"
  }
 },
 "nbformat": 4,
 "nbformat_minor": 2
}
