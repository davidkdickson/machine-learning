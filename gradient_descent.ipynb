{
 "cells": [
  {
   "cell_type": "markdown",
   "metadata": {},
   "source": [
    "# Gradient descent"
   ]
  },
  {
   "cell_type": "code",
   "execution_count": 1,
   "metadata": {},
   "outputs": [],
   "source": [
    "import numpy as np\n",
    "import pandas as pd\n",
    "import matplotlib.pyplot as plt "
   ]
  },
  {
   "cell_type": "markdown",
   "metadata": {},
   "source": [
    "## Simple linear regression using gradient descent"
   ]
  },
  {
   "cell_type": "markdown",
   "metadata": {},
   "source": [
    "Use gradient descent to model y = mx + c from a a dataset. Specifically y = 3x + 2."
   ]
  },
  {
   "cell_type": "code",
   "execution_count": 2,
   "metadata": {},
   "outputs": [
    {
     "data": {
      "image/png": "[encoded data removed]",
      "text/plain": [
       "<Figure size 432x288 with 1 Axes>"
      ]
     },
     "metadata": {},
     "output_type": "display_data"
    }
   ],
   "source": [
    "x = np.arange(1, 11)\n",
    "y = x * 3 + 2\n",
    "points = pd.DataFrame({'x': x, 'y': y})\n",
    "plt.scatter(x, y);"
   ]
  },
  {
   "cell_type": "markdown",
   "metadata": {},
   "source": [
    "Use mean square error as loss function."
   ]
  },
  {
   "cell_type": "code",
   "execution_count": 3,
   "metadata": {},
   "outputs": [],
   "source": [
    "def mse(y_pred, y):\n",
    "    return np.square(y_pred - y).mean()"
   ]
  },
  {
   "cell_type": "markdown",
   "metadata": {},
   "source": [
    "Function takes the current values of m and c and uses the derivatives of the loss function to work out what next value of m and c it should try."
   ]
  },
  {
   "cell_type": "code",
   "execution_count": 4,
   "metadata": {},
   "outputs": [],
   "source": [
    "def step_gradient(m, c, points, learning_rate):\n",
    "    N = float(len(points))\n",
    "    x = points.iloc[:, 0]\n",
    "    y = points.iloc[:, 1]\n",
    "\n",
    "    # partial derivative of mse loss function with respect to c\n",
    "    c_gradient = (-(2/N) * (y - ((m * x) + c))).sum()\n",
    "\n",
    "    # partial derivative of mse loss function with respect to m\n",
    "    m_gradient = (-(2/N) * x * (y - ((m * x) + c))).sum()\n",
    "        \n",
    "    new_c = c - (learning_rate * c_gradient)\n",
    "    new_m = m - (learning_rate * m_gradient)\n",
    "        \n",
    "    new_c = c - (learning_rate * c_gradient)\n",
    "    new_m = m - (learning_rate * m_gradient)\n",
    "    return [new_m, new_c]"
   ]
  },
  {
   "cell_type": "markdown",
   "metadata": {},
   "source": [
    "Run allows you to pass in a set of points and configure the number of iterations and learning rate to use. It initialises m and c to zero."
   ]
  },
  {
   "cell_type": "code",
   "execution_count": 5,
   "metadata": {},
   "outputs": [],
   "source": [
    "def run(points, iterations = 100000, m = 0, c = 0, learning_rate = 0.0001):        \n",
    "    for i in range(iterations):\n",
    "        m, c = step_gradient(m, c, points, learning_rate)\n",
    "        y_pred = points.x * m + c \n",
    "        \n",
    "    print(f'm: {m} c: {c}, error: {mse(y_pred, points.y)}')    "
   ]
  },
  {
   "cell_type": "code",
   "execution_count": 6,
   "metadata": {},
   "outputs": [
    {
     "name": "stdout",
     "output_type": "stream",
     "text": [
      "m: 3.0033126622884745 c: 1.9769378335790457, error: 0.00011398332144540897\n"
     ]
    }
   ],
   "source": [
    "run(points)"
   ]
  }
 ],
 "metadata": {
  "kernelspec": {
   "display_name": "Python 3",
   "language": "python",
   "name": "python3"
  },
  "language_info": {
   "codemirror_mode": {
    "name": "ipython",
    "version": 3
   },
   "file_extension": ".py",
   "mimetype": "text/x-python",
   "name": "python",
   "nbconvert_exporter": "python",
   "pygments_lexer": "ipython3",
   "version": "3.6.5"
  },
  "widgets": {
   "application/vnd.jupyter.widget-state+json": {
    "state": {},
    "version_major": 2,
    "version_minor": 0
   }
  }
 },
 "nbformat": 4,
 "nbformat_minor": 2
}
